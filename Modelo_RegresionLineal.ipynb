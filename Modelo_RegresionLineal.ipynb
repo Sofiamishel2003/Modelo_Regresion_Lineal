{
 "cells": [
  {
   "cell_type": "markdown",
   "id": "1f76ac19",
   "metadata": {},
   "source": [
    "# Proyecto 2 - Modelos de Regresión Lineal\n",
    "## Universidad del Valle de Guatemala\n",
    "### Minería de Datos\n",
    "\n",
    "Este notebook contiene el desarrollo de los incisos impares del proyecto, incluyendo el análisis exploratorio, selección de variables y modelado con regresión lineal."
   ]
  },
  {
   "cell_type": "code",
   "execution_count": null,
   "id": "b5aaf7fe",
   "metadata": {},
   "outputs": [],
   "source": [
    "import pandas as pd\n",
    "import numpy as np\n",
    "import matplotlib.pyplot as plt\n",
    "import seaborn as sns\n",
    "from sklearn.model_selection import train_test_split\n",
    "from sklearn.linear_model import LinearRegression\n",
    "from sklearn.metrics import mean_squared_error, r2_score"
   ]
  },
  {
   "cell_type": "markdown",
   "id": "f97248dd",
   "metadata": {},
   "source": [
    "## Carga de Datos"
   ]
  },
  {
   "cell_type": "code",
   "execution_count": null,
   "id": "cc12d266",
   "metadata": {},
   "outputs": [],
   "source": [
    "train_df = pd.read_csv('/mnt/data/train.csv')\n",
    "test_df = pd.read_csv('/mnt/data/test.csv')\n",
    "print(\"Información del dataset de entrenamiento:\")\n",
    "print(train_df.info())\n",
    "print(\"\\nPrimeras filas del dataset de entrenamiento:\")\n",
    "print(train_df.head())"
   ]
  },
  {
   "cell_type": "markdown",
   "id": "62a1b1c3",
   "metadata": {},
   "source": [
    "## Análisis Exploratorio de Datos (EDA)"
   ]
  },
  {
   "cell_type": "code",
   "execution_count": null,
   "id": "b82c2125",
   "metadata": {},
   "outputs": [],
   "source": [
    "plt.figure(figsize=(10,6))\n",
    "sns.histplot(train_df['SalePrice'], bins=30, kde=True)\n",
    "plt.title(\"Distribución de los precios de venta de las casas\")\n",
    "plt.xlabel(\"Precio de Venta\")\n",
    "plt.ylabel(\"Frecuencia\")\n",
    "plt.show()"
   ]
  },
  {
   "cell_type": "markdown",
   "id": "595c0b92",
   "metadata": {},
   "source": [
    "### Matriz de Correlación con la Variable Objetivo"
   ]
  },
  {
   "cell_type": "code",
   "execution_count": null,
   "id": "c96f02ec",
   "metadata": {},
   "outputs": [],
   "source": [
    "correlation_matrix = train_df.corr()\n",
    "plt.figure(figsize=(12, 8))\n",
    "sns.heatmap(correlation_matrix, cmap='coolwarm', annot=False)\n",
    "plt.title(\"Matriz de Correlación de las Variables\")\n",
    "plt.show()"
   ]
  },
  {
   "cell_type": "markdown",
   "id": "e4080577",
   "metadata": {},
   "source": [
    "## Selección de Variables"
   ]
  },
  {
   "cell_type": "code",
   "execution_count": null,
   "id": "0971330d",
   "metadata": {},
   "outputs": [],
   "source": [
    "correlation_target = correlation_matrix[\"SalePrice\"].sort_values(ascending=False)\n",
    "selected_features = correlation_target[1:10].index.tolist()\n",
    "print(\"Variables seleccionadas para el modelo:\", selected_features)"
   ]
  },
  {
   "cell_type": "markdown",
   "id": "4320e7cf",
   "metadata": {},
   "source": [
    "## Modelado Univariado de Regresión Lineal"
   ]
  },
  {
   "cell_type": "code",
   "execution_count": null,
   "id": "a5d7ce7f",
   "metadata": {},
   "outputs": [],
   "source": [
    "best_feature = selected_features[0]\n",
    "X = train_df[[best_feature]]\n",
    "y = train_df['SalePrice']\n",
    "X_train, X_test, y_train, y_test = train_test_split(X, y, test_size=0.2, random_state=42)"
   ]
  },
  {
   "cell_type": "code",
   "execution_count": null,
   "id": "6f55c60d",
   "metadata": {},
   "outputs": [],
   "source": [
    "model = LinearRegression()\n",
    "model.fit(X_train, y_train)\n",
    "y_pred = model.predict(X_test)"
   ]
  },
  {
   "cell_type": "markdown",
   "id": "f1b11e44",
   "metadata": {},
   "source": [
    "### Evaluación del Modelo"
   ]
  },
  {
   "cell_type": "code",
   "execution_count": null,
   "id": "4b44d6e2",
   "metadata": {},
   "outputs": [],
   "source": [
    "mse = mean_squared_error(y_test, y_pred)\n",
    "r2 = r2_score(y_test, y_pred)\n",
    "print(f\"Error Cuadrático Medio (MSE): {mse}\")\n",
    "print(f\"Coeficiente de determinación (R²): {r2}\")"
   ]
  },
  {
   "cell_type": "markdown",
   "id": "e5a9ef39",
   "metadata": {},
   "source": [
    "### Visualización del Modelo"
   ]
  },
  {
   "cell_type": "code",
   "execution_count": null,
   "id": "8fb70252",
   "metadata": {},
   "outputs": [],
   "source": [
    "plt.figure(figsize=(8, 6))\n",
    "sns.scatterplot(x=X_test[best_feature], y=y_test, label=\"Actual\")\n",
    "sns.lineplot(x=X_test[best_feature], y=y_pred, color='red', label=\"Predicción\")\n",
    "plt.xlabel(best_feature)\n",
    "plt.ylabel(\"SalePrice\")\n",
    "plt.title(\"Regresión Lineal Univariada\")\n",
    "plt.legend()\n",
    "plt.show()"
   ]
  },
  {
   "cell_type": "markdown",
   "id": "9dfc8a85",
   "metadata": {},
   "source": [
    "## Explicación sobre los Conjuntos de Datos\n",
    "El dataset ya viene dividido en `train.csv` y `test.csv`, por lo que no es necesario realizar una nueva división. Sin embargo, dentro del conjunto de entrenamiento, para la validación del modelo, sí se realiza una partición en datos de entrenamiento y prueba con un 80%-20%. Se han seleccionado las variables más relevantes para predecir el precio de las casas basándonos en la correlación con `SalePrice`. Posteriormente, se ha construido un modelo de regresión lineal univariado utilizando la variable más correlacionada."
   ]
  }
 ],
 "metadata": {},
 "nbformat": 4,
 "nbformat_minor": 5
}
